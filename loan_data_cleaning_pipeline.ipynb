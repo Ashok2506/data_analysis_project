{
 "cells": [
  {
   "cell_type": "markdown",
   "id": "cc48773e-aa41-4a38-9fa8-165096fdc837",
   "metadata": {},
   "source": [
    "# loan data cleaning pipeline"
   ]
  },
  {
   "cell_type": "code",
   "execution_count": 9,
   "id": "9053fe7c-4894-460d-b761-270568c59662",
   "metadata": {},
   "outputs": [],
   "source": [
    "import pandas as pd"
   ]
  },
  {
   "cell_type": "code",
   "execution_count": 19,
   "id": "5f7e6ca4-3abb-4b2e-8962-22f3fef4fe1e",
   "metadata": {},
   "outputs": [],
   "source": [
    "def clean_loan_data(df):\n",
    "\n",
    "    #handling missing values for categorical columns\n",
    "    for col in df.select_dtypes(include = \"object\"):\n",
    "        df[col] = df[col].fillna(df[col].mode()[0])\n",
    "\n",
    "    #handling missing values for numerical columns\n",
    "    for col in df.select_dtypes(include = ['int','float']):\n",
    "        df[col] = df[col].fillna(df[col].median())\n",
    "\n",
    "    #changing categorical variable to category type\n",
    "    for col in df.select_dtypes(include = 'object'):\n",
    "        df[col] = df[col].astype('category')\n",
    "        df[col] = df[col].str.strip().str.lower()\n",
    "\n",
    "    #handling outliers\n",
    "    for col in ['ApplicantIncome','CoapplicantIncome','LoanAmount']:\n",
    "        if col in df.columns:\n",
    "            upper = df[col].quantile(0.99)\n",
    "            df[col] = df[col].apply(lambda x : upper if x > upper else x)\n",
    "    return df\n",
    "\n",
    "#call the function\n",
    "df = pd.read_csv('C:/Users/HP/Downloads/loan_prediction.csv')\n",
    "clean_df = clean_loan_data(df)\n",
    "\n",
    "#convert df to csv\n",
    "cleaned_loan_data = clean_df.to_csv('loan_data_pipline.csv')"
   ]
  },
  {
   "cell_type": "code",
   "execution_count": null,
   "id": "0d88f786-474d-4967-88b3-bafa9328dbdd",
   "metadata": {},
   "outputs": [],
   "source": []
  }
 ],
 "metadata": {
  "kernelspec": {
   "display_name": "Python [conda env:base] *",
   "language": "python",
   "name": "conda-base-py"
  },
  "language_info": {
   "codemirror_mode": {
    "name": "ipython",
    "version": 3
   },
   "file_extension": ".py",
   "mimetype": "text/x-python",
   "name": "python",
   "nbconvert_exporter": "python",
   "pygments_lexer": "ipython3",
   "version": "3.12.7"
  }
 },
 "nbformat": 4,
 "nbformat_minor": 5
}
